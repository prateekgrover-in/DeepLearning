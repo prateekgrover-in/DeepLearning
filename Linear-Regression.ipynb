{
  "nbformat": 4,
  "nbformat_minor": 0,
  "metadata": {
    "colab": {
      "name": "BITS464(ML) - Lab1.ipynb",
      "provenance": []
    },
    "kernelspec": {
      "name": "python3",
      "display_name": "Python 3"
    }
  },
  "cells": [
    {
      "cell_type": "code",
      "metadata": {
        "id": "wTmQmvcSv7pV",
        "colab_type": "code",
        "colab": {
          "base_uri": "https://localhost:8080/",
          "height": 72
        },
        "outputId": "6a78f25d-98e7-4dc1-d291-6d3521ef73d1"
      },
      "source": [
        "import numpy as np\n",
        "import pandas as pd \n",
        "import scipy\n",
        "import seaborn as sns\n",
        "import matplotlib.pyplot as plt\n",
        "%matplotlib inline"
      ],
      "execution_count": 1,
      "outputs": [
        {
          "output_type": "stream",
          "text": [
            "/usr/local/lib/python3.6/dist-packages/statsmodels/tools/_testing.py:19: FutureWarning: pandas.util.testing is deprecated. Use the functions in the public API at pandas.testing instead.\n",
            "  import pandas.util.testing as tm\n"
          ],
          "name": "stderr"
        }
      ]
    },
    {
      "cell_type": "code",
      "metadata": {
        "id": "TMSd4N1uXMKK",
        "colab_type": "code",
        "colab": {
          "base_uri": "https://localhost:8080/",
          "height": 195
        },
        "outputId": "600c8d79-387f-4909-e48f-88297074f0d1"
      },
      "source": [
        "iris = pd.read_csv(\"iris_csv.csv\")\n",
        "iris.head()"
      ],
      "execution_count": 2,
      "outputs": [
        {
          "output_type": "execute_result",
          "data": {
            "text/html": [
              "<div>\n",
              "<style scoped>\n",
              "    .dataframe tbody tr th:only-of-type {\n",
              "        vertical-align: middle;\n",
              "    }\n",
              "\n",
              "    .dataframe tbody tr th {\n",
              "        vertical-align: top;\n",
              "    }\n",
              "\n",
              "    .dataframe thead th {\n",
              "        text-align: right;\n",
              "    }\n",
              "</style>\n",
              "<table border=\"1\" class=\"dataframe\">\n",
              "  <thead>\n",
              "    <tr style=\"text-align: right;\">\n",
              "      <th></th>\n",
              "      <th>sepallength</th>\n",
              "      <th>sepalwidth</th>\n",
              "      <th>petallength</th>\n",
              "      <th>petalwidth</th>\n",
              "      <th>class</th>\n",
              "    </tr>\n",
              "  </thead>\n",
              "  <tbody>\n",
              "    <tr>\n",
              "      <th>0</th>\n",
              "      <td>5.1</td>\n",
              "      <td>3.5</td>\n",
              "      <td>1.4</td>\n",
              "      <td>0.2</td>\n",
              "      <td>Iris-setosa</td>\n",
              "    </tr>\n",
              "    <tr>\n",
              "      <th>1</th>\n",
              "      <td>4.9</td>\n",
              "      <td>3.0</td>\n",
              "      <td>1.4</td>\n",
              "      <td>0.2</td>\n",
              "      <td>Iris-setosa</td>\n",
              "    </tr>\n",
              "    <tr>\n",
              "      <th>2</th>\n",
              "      <td>4.7</td>\n",
              "      <td>3.2</td>\n",
              "      <td>1.3</td>\n",
              "      <td>0.2</td>\n",
              "      <td>Iris-setosa</td>\n",
              "    </tr>\n",
              "    <tr>\n",
              "      <th>3</th>\n",
              "      <td>4.6</td>\n",
              "      <td>3.1</td>\n",
              "      <td>1.5</td>\n",
              "      <td>0.2</td>\n",
              "      <td>Iris-setosa</td>\n",
              "    </tr>\n",
              "    <tr>\n",
              "      <th>4</th>\n",
              "      <td>5.0</td>\n",
              "      <td>3.6</td>\n",
              "      <td>1.4</td>\n",
              "      <td>0.2</td>\n",
              "      <td>Iris-setosa</td>\n",
              "    </tr>\n",
              "  </tbody>\n",
              "</table>\n",
              "</div>"
            ],
            "text/plain": [
              "   sepallength  sepalwidth  petallength  petalwidth        class\n",
              "0          5.1         3.5          1.4         0.2  Iris-setosa\n",
              "1          4.9         3.0          1.4         0.2  Iris-setosa\n",
              "2          4.7         3.2          1.3         0.2  Iris-setosa\n",
              "3          4.6         3.1          1.5         0.2  Iris-setosa\n",
              "4          5.0         3.6          1.4         0.2  Iris-setosa"
            ]
          },
          "metadata": {
            "tags": []
          },
          "execution_count": 2
        }
      ]
    },
    {
      "cell_type": "markdown",
      "metadata": {
        "id": "gxxwuog4iW3D",
        "colab_type": "text"
      },
      "source": [
        "Perform slicing of data from 10th row to 31st row."
      ]
    },
    {
      "cell_type": "code",
      "metadata": {
        "id": "a9-H6MV_Xadw",
        "colab_type": "code",
        "colab": {
          "base_uri": "https://localhost:8080/",
          "height": 284
        },
        "outputId": "57b2bc52-5482-4fba-d39c-1f93f5064032"
      },
      "source": [
        "iris_sliced = iris [9:31]\n",
        "iris_sliced.describe()"
      ],
      "execution_count": 3,
      "outputs": [
        {
          "output_type": "execute_result",
          "data": {
            "text/html": [
              "<div>\n",
              "<style scoped>\n",
              "    .dataframe tbody tr th:only-of-type {\n",
              "        vertical-align: middle;\n",
              "    }\n",
              "\n",
              "    .dataframe tbody tr th {\n",
              "        vertical-align: top;\n",
              "    }\n",
              "\n",
              "    .dataframe thead th {\n",
              "        text-align: right;\n",
              "    }\n",
              "</style>\n",
              "<table border=\"1\" class=\"dataframe\">\n",
              "  <thead>\n",
              "    <tr style=\"text-align: right;\">\n",
              "      <th></th>\n",
              "      <th>sepallength</th>\n",
              "      <th>sepalwidth</th>\n",
              "      <th>petallength</th>\n",
              "      <th>petalwidth</th>\n",
              "    </tr>\n",
              "  </thead>\n",
              "  <tbody>\n",
              "    <tr>\n",
              "      <th>count</th>\n",
              "      <td>22.000000</td>\n",
              "      <td>22.000000</td>\n",
              "      <td>22.000000</td>\n",
              "      <td>22.000000</td>\n",
              "    </tr>\n",
              "    <tr>\n",
              "      <th>mean</th>\n",
              "      <td>5.086364</td>\n",
              "      <td>3.481818</td>\n",
              "      <td>1.490909</td>\n",
              "      <td>0.250000</td>\n",
              "    </tr>\n",
              "    <tr>\n",
              "      <th>std</th>\n",
              "      <td>0.375811</td>\n",
              "      <td>0.360735</td>\n",
              "      <td>0.206810</td>\n",
              "      <td>0.110195</td>\n",
              "    </tr>\n",
              "    <tr>\n",
              "      <th>min</th>\n",
              "      <td>4.300000</td>\n",
              "      <td>3.000000</td>\n",
              "      <td>1.000000</td>\n",
              "      <td>0.100000</td>\n",
              "    </tr>\n",
              "    <tr>\n",
              "      <th>25%</th>\n",
              "      <td>4.800000</td>\n",
              "      <td>3.225000</td>\n",
              "      <td>1.400000</td>\n",
              "      <td>0.200000</td>\n",
              "    </tr>\n",
              "    <tr>\n",
              "      <th>50%</th>\n",
              "      <td>5.100000</td>\n",
              "      <td>3.400000</td>\n",
              "      <td>1.500000</td>\n",
              "      <td>0.200000</td>\n",
              "    </tr>\n",
              "    <tr>\n",
              "      <th>75%</th>\n",
              "      <td>5.350000</td>\n",
              "      <td>3.700000</td>\n",
              "      <td>1.600000</td>\n",
              "      <td>0.300000</td>\n",
              "    </tr>\n",
              "    <tr>\n",
              "      <th>max</th>\n",
              "      <td>5.800000</td>\n",
              "      <td>4.400000</td>\n",
              "      <td>1.900000</td>\n",
              "      <td>0.500000</td>\n",
              "    </tr>\n",
              "  </tbody>\n",
              "</table>\n",
              "</div>"
            ],
            "text/plain": [
              "       sepallength  sepalwidth  petallength  petalwidth\n",
              "count    22.000000   22.000000    22.000000   22.000000\n",
              "mean      5.086364    3.481818     1.490909    0.250000\n",
              "std       0.375811    0.360735     0.206810    0.110195\n",
              "min       4.300000    3.000000     1.000000    0.100000\n",
              "25%       4.800000    3.225000     1.400000    0.200000\n",
              "50%       5.100000    3.400000     1.500000    0.200000\n",
              "75%       5.350000    3.700000     1.600000    0.300000\n",
              "max       5.800000    4.400000     1.900000    0.500000"
            ]
          },
          "metadata": {
            "tags": []
          },
          "execution_count": 3
        }
      ]
    },
    {
      "cell_type": "markdown",
      "metadata": {
        "id": "SencvkdpiaZB",
        "colab_type": "text"
      },
      "source": [
        "Calculate sum, mean and mode of a “sepallLength” column of dataset."
      ]
    },
    {
      "cell_type": "code",
      "metadata": {
        "id": "suTiicoyYO2N",
        "colab_type": "code",
        "colab": {}
      },
      "source": [
        "sum = np.sum(iris_sliced['sepallength'])\n",
        "mean = np.mean(iris_sliced['sepallength'])\n",
        "mode = scipy.stats.mode(iris_sliced['sepallength'])"
      ],
      "execution_count": 4,
      "outputs": []
    },
    {
      "cell_type": "code",
      "metadata": {
        "id": "Gqs3e3xqY9e1",
        "colab_type": "code",
        "colab": {
          "base_uri": "https://localhost:8080/",
          "height": 52
        },
        "outputId": "38f610d5-b9a2-40f8-d5eb-20107dcd1bfb"
      },
      "source": [
        "print('For column sepallength: ')\n",
        "print('Sum: '+str(sum)+'\\t Mean: '+str(round(mean,3))+'\\t Mode: '+str(float(mode[0])))"
      ],
      "execution_count": 5,
      "outputs": [
        {
          "output_type": "stream",
          "text": [
            "For column sepallength: \n",
            "Sum: 111.9\t Mean: 5.086\t Mode: 4.8\n"
          ],
          "name": "stdout"
        }
      ]
    },
    {
      "cell_type": "markdown",
      "metadata": {
        "id": "bXIQ2RofifTZ",
        "colab_type": "text"
      },
      "source": [
        "Create new column “total” that perform sum of all the columns and add it to dataset."
      ]
    },
    {
      "cell_type": "code",
      "metadata": {
        "id": "_Oa_4CLhcxlL",
        "colab_type": "code",
        "colab": {
          "base_uri": "https://localhost:8080/",
          "height": 301
        },
        "outputId": "07b9cd4a-547d-4fbe-a96d-28f361057f14"
      },
      "source": [
        "sum_columns = iris_sliced['sepallength'] + iris_sliced['sepalwidth'] + iris_sliced['petallength'] + iris_sliced['petalwidth'] \n",
        "iris_sliced['Total'] = sum_columns\n",
        "iris_sliced.head()"
      ],
      "execution_count": 6,
      "outputs": [
        {
          "output_type": "stream",
          "text": [
            "/usr/local/lib/python3.6/dist-packages/ipykernel_launcher.py:2: SettingWithCopyWarning: \n",
            "A value is trying to be set on a copy of a slice from a DataFrame.\n",
            "Try using .loc[row_indexer,col_indexer] = value instead\n",
            "\n",
            "See the caveats in the documentation: https://pandas.pydata.org/pandas-docs/stable/user_guide/indexing.html#returning-a-view-versus-a-copy\n",
            "  \n"
          ],
          "name": "stderr"
        },
        {
          "output_type": "execute_result",
          "data": {
            "text/html": [
              "<div>\n",
              "<style scoped>\n",
              "    .dataframe tbody tr th:only-of-type {\n",
              "        vertical-align: middle;\n",
              "    }\n",
              "\n",
              "    .dataframe tbody tr th {\n",
              "        vertical-align: top;\n",
              "    }\n",
              "\n",
              "    .dataframe thead th {\n",
              "        text-align: right;\n",
              "    }\n",
              "</style>\n",
              "<table border=\"1\" class=\"dataframe\">\n",
              "  <thead>\n",
              "    <tr style=\"text-align: right;\">\n",
              "      <th></th>\n",
              "      <th>sepallength</th>\n",
              "      <th>sepalwidth</th>\n",
              "      <th>petallength</th>\n",
              "      <th>petalwidth</th>\n",
              "      <th>class</th>\n",
              "      <th>Total</th>\n",
              "    </tr>\n",
              "  </thead>\n",
              "  <tbody>\n",
              "    <tr>\n",
              "      <th>9</th>\n",
              "      <td>4.9</td>\n",
              "      <td>3.1</td>\n",
              "      <td>1.5</td>\n",
              "      <td>0.1</td>\n",
              "      <td>Iris-setosa</td>\n",
              "      <td>9.6</td>\n",
              "    </tr>\n",
              "    <tr>\n",
              "      <th>10</th>\n",
              "      <td>5.4</td>\n",
              "      <td>3.7</td>\n",
              "      <td>1.5</td>\n",
              "      <td>0.2</td>\n",
              "      <td>Iris-setosa</td>\n",
              "      <td>10.8</td>\n",
              "    </tr>\n",
              "    <tr>\n",
              "      <th>11</th>\n",
              "      <td>4.8</td>\n",
              "      <td>3.4</td>\n",
              "      <td>1.6</td>\n",
              "      <td>0.2</td>\n",
              "      <td>Iris-setosa</td>\n",
              "      <td>10.0</td>\n",
              "    </tr>\n",
              "    <tr>\n",
              "      <th>12</th>\n",
              "      <td>4.8</td>\n",
              "      <td>3.0</td>\n",
              "      <td>1.4</td>\n",
              "      <td>0.1</td>\n",
              "      <td>Iris-setosa</td>\n",
              "      <td>9.3</td>\n",
              "    </tr>\n",
              "    <tr>\n",
              "      <th>13</th>\n",
              "      <td>4.3</td>\n",
              "      <td>3.0</td>\n",
              "      <td>1.1</td>\n",
              "      <td>0.1</td>\n",
              "      <td>Iris-setosa</td>\n",
              "      <td>8.5</td>\n",
              "    </tr>\n",
              "  </tbody>\n",
              "</table>\n",
              "</div>"
            ],
            "text/plain": [
              "    sepallength  sepalwidth  petallength  petalwidth        class  Total\n",
              "9           4.9         3.1          1.5         0.1  Iris-setosa    9.6\n",
              "10          5.4         3.7          1.5         0.2  Iris-setosa   10.8\n",
              "11          4.8         3.4          1.6         0.2  Iris-setosa   10.0\n",
              "12          4.8         3.0          1.4         0.1  Iris-setosa    9.3\n",
              "13          4.3         3.0          1.1         0.1  Iris-setosa    8.5"
            ]
          },
          "metadata": {
            "tags": []
          },
          "execution_count": 6
        }
      ]
    },
    {
      "cell_type": "markdown",
      "metadata": {
        "id": "RWvKWvbTiifk",
        "colab_type": "text"
      },
      "source": [
        "Detect missing value and also show summarization of missing value"
      ]
    },
    {
      "cell_type": "code",
      "metadata": {
        "id": "hp1GuphDeRPF",
        "colab_type": "code",
        "colab": {
          "base_uri": "https://localhost:8080/",
          "height": 166
        },
        "outputId": "04b3a8d8-d22e-42de-d43b-ff2df08a785b"
      },
      "source": [
        "iris.isnull().describe()"
      ],
      "execution_count": 7,
      "outputs": [
        {
          "output_type": "execute_result",
          "data": {
            "text/html": [
              "<div>\n",
              "<style scoped>\n",
              "    .dataframe tbody tr th:only-of-type {\n",
              "        vertical-align: middle;\n",
              "    }\n",
              "\n",
              "    .dataframe tbody tr th {\n",
              "        vertical-align: top;\n",
              "    }\n",
              "\n",
              "    .dataframe thead th {\n",
              "        text-align: right;\n",
              "    }\n",
              "</style>\n",
              "<table border=\"1\" class=\"dataframe\">\n",
              "  <thead>\n",
              "    <tr style=\"text-align: right;\">\n",
              "      <th></th>\n",
              "      <th>sepallength</th>\n",
              "      <th>sepalwidth</th>\n",
              "      <th>petallength</th>\n",
              "      <th>petalwidth</th>\n",
              "      <th>class</th>\n",
              "    </tr>\n",
              "  </thead>\n",
              "  <tbody>\n",
              "    <tr>\n",
              "      <th>count</th>\n",
              "      <td>150</td>\n",
              "      <td>150</td>\n",
              "      <td>150</td>\n",
              "      <td>150</td>\n",
              "      <td>150</td>\n",
              "    </tr>\n",
              "    <tr>\n",
              "      <th>unique</th>\n",
              "      <td>1</td>\n",
              "      <td>1</td>\n",
              "      <td>1</td>\n",
              "      <td>1</td>\n",
              "      <td>1</td>\n",
              "    </tr>\n",
              "    <tr>\n",
              "      <th>top</th>\n",
              "      <td>False</td>\n",
              "      <td>False</td>\n",
              "      <td>False</td>\n",
              "      <td>False</td>\n",
              "      <td>False</td>\n",
              "    </tr>\n",
              "    <tr>\n",
              "      <th>freq</th>\n",
              "      <td>150</td>\n",
              "      <td>150</td>\n",
              "      <td>150</td>\n",
              "      <td>150</td>\n",
              "      <td>150</td>\n",
              "    </tr>\n",
              "  </tbody>\n",
              "</table>\n",
              "</div>"
            ],
            "text/plain": [
              "       sepallength sepalwidth petallength petalwidth  class\n",
              "count          150        150         150        150    150\n",
              "unique           1          1           1          1      1\n",
              "top          False      False       False      False  False\n",
              "freq           150        150         150        150    150"
            ]
          },
          "metadata": {
            "tags": []
          },
          "execution_count": 7
        }
      ]
    },
    {
      "cell_type": "code",
      "metadata": {
        "id": "mogRfkKrqr9E",
        "colab_type": "code",
        "colab": {}
      },
      "source": [
        "#All values are present, no missing data."
      ],
      "execution_count": 8,
      "outputs": []
    },
    {
      "cell_type": "markdown",
      "metadata": {
        "id": "Po0x4SLWil8x",
        "colab_type": "text"
      },
      "source": [
        "Plot a graph with length of petals as the x-axis and breadth of petals as the y-axis"
      ]
    },
    {
      "cell_type": "code",
      "metadata": {
        "id": "jstr8bVDewud",
        "colab_type": "code",
        "colab": {
          "base_uri": "https://localhost:8080/",
          "height": 851
        },
        "outputId": "f0031807-55c5-4182-a95e-6001c5598046"
      },
      "source": [
        "for species in iris['class'].unique():\n",
        "    fig = iris[iris['class'] == species].plot(kind='scatter', x='petallength', y='petalwidth', label=species)\n",
        "    fig.set_xlabel('Petal Length')\n",
        "    fig.set_ylabel('Petal Width')\n",
        "    fig.set_title('Petal Length Vs Width for '+species)\n",
        "    plt.show()"
      ],
      "execution_count": 9,
      "outputs": [
        {
          "output_type": "display_data",
          "data": {
            "image/png": "[encoded data removed]",
            "text/plain": [
              "<Figure size 432x288 with 1 Axes>"
            ]
          },
          "metadata": {
            "tags": [],
            "needs_background": "light"
          }
        },
        {
          "output_type": "display_data",
          "data": {
            "image/png": "[encoded data removed]",
            "text/plain": [
              "<Figure size 432x288 with 1 Axes>"
            ]
          },
          "metadata": {
            "tags": [],
            "needs_background": "light"
          }
        },
        {
          "output_type": "display_data",
          "data": {
            "image/png": "[encoded data removed]",
            "text/plain": [
              "<Figure size 432x288 with 1 Axes>"
            ]
          },
          "metadata": {
            "tags": [],
            "needs_background": "light"
          }
        }
      ]
    },
    {
      "cell_type": "code",
      "metadata": {
        "id": "aynJjYvOjQWt",
        "colab_type": "code",
        "colab": {
          "base_uri": "https://localhost:8080/",
          "height": 458
        },
        "outputId": "497f20ba-7552-4761-ab74-245b0d165a8e"
      },
      "source": [
        "fig = iris[iris['class'] == 'Iris-setosa'].plot(kind='scatter', x='petallength', y='petalwidth', color='orange', label='Setosa')\n",
        "iris[iris['class'] == 'Iris-versicolor'].plot(kind='scatter', x='petallength', y='petalwidth', color='blue', label='Versicolor', ax=fig)\n",
        "iris[iris['class'] == 'Iris-virginica'].plot(kind='scatter', x='petallength', y='petalwidth', color='green', label='Virginica', ax=fig)\n",
        "\n",
        "fig.set_xlabel('Petal Length')\n",
        "fig.set_ylabel('Petal Width')\n",
        "fig.set_title('Petal Length Vs Width')\n",
        "\n",
        "fig=plt.gcf()\n",
        "fig.set_size_inches(10, 7)\n",
        "plt.show()"
      ],
      "execution_count": 10,
      "outputs": [
        {
          "output_type": "display_data",
          "data": {
            "image/png": "[encoded data removed]",
            "text/plain": [
              "<Figure size 720x504 with 1 Axes>"
            ]
          },
          "metadata": {
            "tags": [],
            "needs_background": "light"
          }
        }
      ]
    }
  ]
}