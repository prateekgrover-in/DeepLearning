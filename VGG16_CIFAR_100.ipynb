{
  "nbformat": 4,
  "nbformat_minor": 0,
  "metadata": {
    "colab": {
      "name": "VGG16: CIFAR - 100.ipynb",
      "provenance": [],
      "collapsed_sections": []
    },
    "kernelspec": {
      "name": "python3",
      "display_name": "Python 3"
    },
    "accelerator": "GPU"
  },
  "cells": [
    {
      "cell_type": "markdown",
      "metadata": {
        "id": "QhVnoK9HnZ9X",
        "colab_type": "text"
      },
      "source": [
        "# Step-by-step approach to training a DeepNeuralNetwork for ImageClassification"
      ]
    },
    {
      "cell_type": "markdown",
      "metadata": {
        "id": "zfr3xtHQhvjo",
        "colab_type": "text"
      },
      "source": [
        "We'll be working with Keras, a deep learning library, to implement a deep Convolutional Neural Network taking the CIFAR - 100 Dataset, hoping to achieve test accuracy of more than 65%, gradually moving from basic elements to advanced elements, observing the training procedure throughout."
      ]
    },
    {
      "cell_type": "code",
      "metadata": {
        "id": "9STb6B6rocHQ",
        "colab_type": "code",
        "colab": {
          "base_uri": "https://localhost:8080/",
          "height": 34
        },
        "outputId": "3fdfb9bb-3653-4ae0-9d52-fadc5bf64d7c"
      },
      "source": [
        "import numpy as np\n",
        "import keras"
      ],
      "execution_count": null,
      "outputs": [
        {
          "output_type": "stream",
          "text": [
            "Using TensorFlow backend.\n"
          ],
          "name": "stderr"
        }
      ]
    },
    {
      "cell_type": "markdown",
      "metadata": {
        "id": "-jtxysUoopb5",
        "colab_type": "text"
      },
      "source": [
        "# Understanding the CIFAR - 100 Dataset\n",
        "CIFAR - 100 Dataset contains 60000 coloured images of dimensions 32x32, each labelled to one of the 100 classes that all of them belong to. The dataset is provided in the Keras library itself."
      ]
    },
    {
      "cell_type": "code",
      "metadata": {
        "id": "n1VUc0kSpxWh",
        "colab_type": "code",
        "colab": {}
      },
      "source": [
        "from keras.datasets import cifar100"
      ],
      "execution_count": null,
      "outputs": []
    },
    {
      "cell_type": "markdown",
      "metadata": {
        "id": "Pe-KTUFipvuy",
        "colab_type": "text"
      },
      "source": [
        "\n",
        "Using the load_data(), the dataset is divided into training and testing data function, that shall be used to evaluate our model."
      ]
    },
    {
      "cell_type": "code",
      "metadata": {
        "id": "X8Bq30VGo6P6",
        "colab_type": "code",
        "colab": {
          "base_uri": "https://localhost:8080/",
          "height": 52
        },
        "outputId": "db976241-6a41-45f5-938d-2daf640fa549"
      },
      "source": [
        "(train_images, train_labels), (test_images, test_labels) = keras.datasets.cifar100.load_data()"
      ],
      "execution_count": null,
      "outputs": [
        {
          "output_type": "stream",
          "text": [
            "Downloading data from https://www.cs.toronto.edu/~kriz/cifar-100-python.tar.gz\n",
            "169009152/169001437 [==============================] - 6s 0us/step\n"
          ],
          "name": "stdout"
        }
      ]
    },
    {
      "cell_type": "markdown",
      "metadata": {
        "id": "H4Fi_BQSuDPd",
        "colab_type": "text"
      },
      "source": [
        "We shall also define variables, num_label_classes defining the number of label classes and input_shape indicating the input 3-D Array"
      ]
    },
    {
      "cell_type": "code",
      "metadata": {
        "id": "0OIJwKFZt5MW",
        "colab_type": "code",
        "colab": {}
      },
      "source": [
        "num_label_classes = 100\n",
        "input_image_shape = [32,32,3]"
      ],
      "execution_count": null,
      "outputs": []
    },
    {
      "cell_type": "markdown",
      "metadata": {
        "id": "5jmgMUSLqao9",
        "colab_type": "text"
      },
      "source": [
        "Let's look at how the divison of data takes place using this function"
      ]
    },
    {
      "cell_type": "code",
      "metadata": {
        "id": "nqG5Ap8RqfMV",
        "colab_type": "code",
        "colab": {
          "base_uri": "https://localhost:8080/",
          "height": 52
        },
        "outputId": "3c1294d0-7c34-4183-d4f5-a4c6691ee388"
      },
      "source": [
        "print(\"The number of images available for training and validation are: \" + str(train_images.shape[0]))\n",
        "print(\"while, the number of images for testing are: \" + str(test_images.shape[0]))"
      ],
      "execution_count": null,
      "outputs": [
        {
          "output_type": "stream",
          "text": [
            "The number of images available for training and validation are: 50000\n",
            "while, the number of images for testing are: 10000\n"
          ],
          "name": "stdout"
        }
      ]
    },
    {
      "cell_type": "markdown",
      "metadata": {
        "id": "9Wip0FU7q_p4",
        "colab_type": "text"
      },
      "source": [
        "So, let us now look at a few examples from the training dataset"
      ]
    },
    {
      "cell_type": "code",
      "metadata": {
        "id": "gmFqn1HLpPOi",
        "colab_type": "code",
        "colab": {
          "base_uri": "https://localhost:8080/",
          "height": 196
        },
        "outputId": "4266b21d-36b3-4f55-8fde-f4be84290717"
      },
      "source": [
        "import matplotlib.pyplot as plt     #importing the graphing library\n",
        "\n",
        "plt.figure(figsize=(10,2))\n",
        "for i in range(5):\n",
        "    plt.subplot(1,5,i+1)\n",
        "    plt.xticks([])\n",
        "    plt.yticks([])\n",
        "    plt.grid(False)\n",
        "    plt.imshow(train_images[i].reshape(32, 32,3), cmap=plt.cm.RdYlBu)\n",
        "    plt.xlabel(train_labels[i])"
      ],
      "execution_count": null,
      "outputs": [
        {
          "output_type": "stream",
          "text": [
            "/usr/local/lib/python3.6/dist-packages/matplotlib/text.py:1165: FutureWarning: elementwise comparison failed; returning scalar instead, but in the future will perform elementwise comparison\n",
            "  if s != self._text:\n"
          ],
          "name": "stderr"
        },
        {
          "output_type": "display_data",
          "data": {
            "image/png": "[encoded data removed]",
            "text/plain": [
              "<Figure size 720x144 with 5 Axes>"
            ]
          },
          "metadata": {
            "tags": []
          }
        }
      ]
    },
    {
      "cell_type": "markdown",
      "metadata": {
        "id": "F9XBPjbqEcOt",
        "colab_type": "text"
      },
      "source": [
        "#Dataset Preprocessing\n",
        "Our objective shall be to transform the input images into a 3D array giving the illusion of a normal distribution ie zero mean and unit standard deviation."
      ]
    },
    {
      "cell_type": "code",
      "metadata": {
        "id": "mY8Y9NuOEiVy",
        "colab_type": "code",
        "colab": {}
      },
      "source": [
        "#Converting the array elements to float datatype\n",
        "train_images = train_images.astype('float32')\n",
        "test_images = test_images.astype('float32')"
      ],
      "execution_count": null,
      "outputs": []
    },
    {
      "cell_type": "code",
      "metadata": {
        "id": "zELRdiOkEnPL",
        "colab_type": "code",
        "colab": {}
      },
      "source": [
        "mean = np.mean (train_images, axis=(0, 1, 2, 3))\n",
        "std = np.std (train_images, axis=(0, 1, 2, 3))"
      ],
      "execution_count": null,
      "outputs": []
    },
    {
      "cell_type": "code",
      "metadata": {
        "id": "2HE1PF-tErOu",
        "colab_type": "code",
        "colab": {}
      },
      "source": [
        "#Performing the mathematical formula throughout the arrays\n",
        "train_images = (train_images-mean)/(std+1e-7)\n",
        "test_images = (test_images-mean)/(std+1e-7)"
      ],
      "execution_count": null,
      "outputs": []
    },
    {
      "cell_type": "markdown",
      "metadata": {
        "id": "45dlOS4aF0PD",
        "colab_type": "text"
      },
      "source": [
        "We shall also change the categorical labels to one-hot-encoding, so as to calculate loss easily. \n"
      ]
    },
    {
      "cell_type": "markdown",
      "metadata": {
        "id": "Run-n7ruGYRH",
        "colab_type": "text"
      },
      "source": [
        "*Eg: a label of 12 shall have value of 1 for the twelfth position of array of labels while rest of the array elements will be zero.*"
      ]
    },
    {
      "cell_type": "code",
      "metadata": {
        "id": "8oA7KRMYEsGN",
        "colab_type": "code",
        "colab": {}
      },
      "source": [
        "train_labels = keras.utils.to_categorical(train_labels, num_label_classes)\n",
        "test_labels = keras.utils.to_categorical(test_labels, num_label_classes)"
      ],
      "execution_count": null,
      "outputs": []
    },
    {
      "cell_type": "markdown",
      "metadata": {
        "id": "3-v4aiECucfi",
        "colab_type": "text"
      },
      "source": [
        "# Creating the VGG-16 Neural Network\n",
        "\n",
        "We shall be forming our deep CNN through the Sequential() model provided by Keras, this shall involve an API for a number of layers :\n",
        "\n",
        "*   ***Conv2D*** : provides a convolution layer with defined size and stride\n",
        "\n",
        "*   ***MaxPooling2D*** : forms Layer B by downsampling Layer A, taking the maximum value over the window defined by pool_size for each dimension along the features axis. \n",
        "\n",
        "*   ***BatchNormalization*** : Normalize the activations of the Layer A at each batch, i.e. applies a transformation that maintains the mean activation close to 0 and the activation standard deviation close to 1.\n",
        "\n",
        "*   ***Dense*** : provides a fully connected layer from Layer A to Layer B\n",
        "\n",
        "*   ***Dropout*** : randomly sets input units to 0 with a frequency of rate at each step during training time, which helps prevent overfitting. Inputs not set to 0 are scaled up by 1/(1 - rate) such that the sum over all inputs is unchanged.\n",
        "\n",
        "*   ***Activation*** : Applies an activation function like ReLu or Sigmoid to an output.\n",
        "\n",
        "*   ***Flatten*** : Flattens the input. "
      ]
    },
    {
      "cell_type": "code",
      "metadata": {
        "id": "8pJxtk7eCM8j",
        "colab_type": "code",
        "colab": {}
      },
      "source": [
        "from keras.layers import Conv2D, MaxPooling2D, BatchNormalization\n",
        "from keras.layers import Dense, Dropout, Activation, Flatten\n",
        "from keras.models import Sequential"
      ],
      "execution_count": null,
      "outputs": []
    },
    {
      "cell_type": "markdown",
      "metadata": {
        "id": "QjrQRXy8bcNd",
        "colab_type": "text"
      },
      "source": [
        "> ![alt text](https://media.geeksforgeeks.org/wp-content/uploads/20200219152327/conv-layers-vgg16.jpg)\n",
        "\n",
        "Paper: [VERY DEEP CONVOLUTIONAL NETWORKS FOR LARGE-SCALE IMAGE RECOGNITION](https://arxiv.org/pdf/1409.1556.pdf)\n",
        "Karen Simonyan & Andrew Zisserman\n",
        "\n",
        "\n",
        "\n",
        "\n",
        "\n"
      ]
    },
    {
      "cell_type": "markdown",
      "metadata": {
        "id": "a2UhDO6yGrpI",
        "colab_type": "text"
      },
      "source": [
        "To reduce overfitting, we shall also add L2 Kernel Regularizer that shall allow you to apply penalties on layer parameters during optimization. These penalties are summed into the loss function that the network optimizes."
      ]
    },
    {
      "cell_type": "code",
      "metadata": {
        "id": "6QPv4sEVGsVn",
        "colab_type": "code",
        "colab": {}
      },
      "source": [
        "from keras import regularizers\n",
        "weight_decay = 0.0005"
      ],
      "execution_count": null,
      "outputs": []
    },
    {
      "cell_type": "code",
      "metadata": {
        "id": "cfhdGHl2unWP",
        "colab_type": "code",
        "colab": {}
      },
      "source": [
        "model = Sequential()\n",
        "\n",
        "model.add(Conv2D(64, (3, 3), padding='same', input_shape=input_image_shape, kernel_regularizer=regularizers.l2(weight_decay)))\n",
        "model.add(Activation('relu'))\n",
        "model.add(BatchNormalization())\n",
        "model.add(Dropout(0.3))\n",
        "\n",
        "model.add(Conv2D(64, (3, 3), padding='same',kernel_regularizer=regularizers.l2(weight_decay)))\n",
        "model.add(Activation('relu'))\n",
        "model.add(BatchNormalization())\n",
        "\n",
        "model.add(MaxPooling2D(pool_size=(2, 2)))\n",
        "model.add(Conv2D(128, (3, 3), padding='same',kernel_regularizer=regularizers.l2(weight_decay)))\n",
        "model.add(Activation('relu'))\n",
        "model.add(BatchNormalization())\n",
        "model.add(Dropout(0.4))\n",
        "\n",
        "model.add(Conv2D(128, (3, 3), padding='same',kernel_regularizer=regularizers.l2(weight_decay)))\n",
        "model.add(Activation('relu'))\n",
        "model.add(BatchNormalization())\n",
        "\n",
        "model.add(MaxPooling2D(pool_size=(2, 2)))\n",
        "\n",
        "model.add(Conv2D(256, (3, 3), padding='same',kernel_regularizer=regularizers.l2(weight_decay)))\n",
        "model.add(Activation('relu'))\n",
        "model.add(BatchNormalization())\n",
        "model.add(Dropout(0.4))\n",
        "\n",
        "model.add(Conv2D(256, (3, 3), padding='same',kernel_regularizer=regularizers.l2(weight_decay)))\n",
        "model.add(Activation('relu'))\n",
        "model.add(BatchNormalization())\n",
        "model.add(Dropout(0.4))\n",
        "\n",
        "model.add(Conv2D(256, (3, 3), padding='same',kernel_regularizer=regularizers.l2(weight_decay)))\n",
        "model.add(Activation('relu'))\n",
        "model.add(BatchNormalization())\n",
        "\n",
        "model.add(MaxPooling2D(pool_size=(2, 2)))\n",
        "model.add(Conv2D(512, (3, 3), padding='same',kernel_regularizer=regularizers.l2(weight_decay)))\n",
        "model.add(Activation('relu'))\n",
        "model.add(BatchNormalization())\n",
        "model.add(Dropout(0.4))\n",
        "\n",
        "model.add(Conv2D(512, (3, 3), padding='same',kernel_regularizer=regularizers.l2(weight_decay)))\n",
        "model.add(Activation('relu'))\n",
        "model.add(BatchNormalization())\n",
        "model.add(Dropout(0.4))\n",
        "\n",
        "model.add(Conv2D(512, (3, 3), padding='same',kernel_regularizer=regularizers.l2(weight_decay)))\n",
        "model.add(Activation('relu'))\n",
        "model.add(BatchNormalization())\n",
        "\n",
        "model.add(MaxPooling2D(pool_size=(2, 2)))\n",
        "\n",
        "\n",
        "model.add(Conv2D(512, (3, 3), padding='same',kernel_regularizer=regularizers.l2(weight_decay)))\n",
        "model.add(Activation('relu'))\n",
        "model.add(BatchNormalization())\n",
        "model.add(Dropout(0.4))\n",
        "\n",
        "model.add(Conv2D(512, (3, 3), padding='same',kernel_regularizer=regularizers.l2(weight_decay)))\n",
        "model.add(Activation('relu'))\n",
        "model.add(BatchNormalization())\n",
        "model.add(Dropout(0.4))\n",
        "\n",
        "model.add(Conv2D(512, (3, 3), padding='same',kernel_regularizer=regularizers.l2(weight_decay)))\n",
        "model.add(Activation('relu'))\n",
        "model.add(BatchNormalization())\n",
        "\n",
        "model.add(MaxPooling2D(pool_size=(2, 2)))\n",
        "model.add(Dropout(0.5))\n",
        "\n",
        "model.add(Flatten())\n",
        "model.add(Dense(512,kernel_regularizer=regularizers.l2(weight_decay)))\n",
        "model.add(Activation('relu'))\n",
        "model.add(BatchNormalization())\n",
        "\n",
        "model.add(Dropout(0.5))\n",
        "model.add(Dense(num_label_classes))\n",
        "model.add(Activation('softmax'))"
      ],
      "execution_count": null,
      "outputs": []
    },
    {
      "cell_type": "markdown",
      "metadata": {
        "id": "H70exmeeEB7F",
        "colab_type": "text"
      },
      "source": [
        "Let's look at how the model shapes out layer by layer."
      ]
    },
    {
      "cell_type": "code",
      "metadata": {
        "id": "2mZpvhagENc4",
        "colab_type": "code",
        "colab": {
          "base_uri": "https://localhost:8080/",
          "height": 1000
        },
        "outputId": "6d17e101-3908-48ed-f918-49ab18a675a0"
      },
      "source": [
        "model.summary()"
      ],
      "execution_count": null,
      "outputs": [
        {
          "output_type": "stream",
          "text": [
            "Model: \"sequential_1\"\n",
            "_________________________________________________________________\n",
            "Layer (type)                 Output Shape              Param #   \n",
            "=================================================================\n",
            "conv2d_1 (Conv2D)            (None, 32, 32, 64)        1792      \n",
            "_________________________________________________________________\n",
            "activation_1 (Activation)    (None, 32, 32, 64)        0         \n",
            "_________________________________________________________________\n",
            "batch_normalization_1 (Batch (None, 32, 32, 64)        256       \n",
            "_________________________________________________________________\n",
            "dropout_1 (Dropout)          (None, 32, 32, 64)        0         \n",
            "_________________________________________________________________\n",
            "conv2d_2 (Conv2D)            (None, 32, 32, 64)        36928     \n",
            "_________________________________________________________________\n",
            "activation_2 (Activation)    (None, 32, 32, 64)        0         \n",
            "_________________________________________________________________\n",
            "batch_normalization_2 (Batch (None, 32, 32, 64)        256       \n",
            "_________________________________________________________________\n",
            "max_pooling2d_1 (MaxPooling2 (None, 16, 16, 64)        0         \n",
            "_________________________________________________________________\n",
            "conv2d_3 (Conv2D)            (None, 16, 16, 128)       73856     \n",
            "_________________________________________________________________\n",
            "activation_3 (Activation)    (None, 16, 16, 128)       0         \n",
            "_________________________________________________________________\n",
            "batch_normalization_3 (Batch (None, 16, 16, 128)       512       \n",
            "_________________________________________________________________\n",
            "dropout_2 (Dropout)          (None, 16, 16, 128)       0         \n",
            "_________________________________________________________________\n",
            "conv2d_4 (Conv2D)            (None, 16, 16, 128)       147584    \n",
            "_________________________________________________________________\n",
            "activation_4 (Activation)    (None, 16, 16, 128)       0         \n",
            "_________________________________________________________________\n",
            "batch_normalization_4 (Batch (None, 16, 16, 128)       512       \n",
            "_________________________________________________________________\n",
            "max_pooling2d_2 (MaxPooling2 (None, 8, 8, 128)         0         \n",
            "_________________________________________________________________\n",
            "conv2d_5 (Conv2D)            (None, 8, 8, 256)         295168    \n",
            "_________________________________________________________________\n",
            "activation_5 (Activation)    (None, 8, 8, 256)         0         \n",
            "_________________________________________________________________\n",
            "batch_normalization_5 (Batch (None, 8, 8, 256)         1024      \n",
            "_________________________________________________________________\n",
            "dropout_3 (Dropout)          (None, 8, 8, 256)         0         \n",
            "_________________________________________________________________\n",
            "conv2d_6 (Conv2D)            (None, 8, 8, 256)         590080    \n",
            "_________________________________________________________________\n",
            "activation_6 (Activation)    (None, 8, 8, 256)         0         \n",
            "_________________________________________________________________\n",
            "batch_normalization_6 (Batch (None, 8, 8, 256)         1024      \n",
            "_________________________________________________________________\n",
            "dropout_4 (Dropout)          (None, 8, 8, 256)         0         \n",
            "_________________________________________________________________\n",
            "conv2d_7 (Conv2D)            (None, 8, 8, 256)         590080    \n",
            "_________________________________________________________________\n",
            "activation_7 (Activation)    (None, 8, 8, 256)         0         \n",
            "_________________________________________________________________\n",
            "batch_normalization_7 (Batch (None, 8, 8, 256)         1024      \n",
            "_________________________________________________________________\n",
            "max_pooling2d_3 (MaxPooling2 (None, 4, 4, 256)         0         \n",
            "_________________________________________________________________\n",
            "conv2d_8 (Conv2D)            (None, 4, 4, 512)         1180160   \n",
            "_________________________________________________________________\n",
            "activation_8 (Activation)    (None, 4, 4, 512)         0         \n",
            "_________________________________________________________________\n",
            "batch_normalization_8 (Batch (None, 4, 4, 512)         2048      \n",
            "_________________________________________________________________\n",
            "dropout_5 (Dropout)          (None, 4, 4, 512)         0         \n",
            "_________________________________________________________________\n",
            "conv2d_9 (Conv2D)            (None, 4, 4, 512)         2359808   \n",
            "_________________________________________________________________\n",
            "activation_9 (Activation)    (None, 4, 4, 512)         0         \n",
            "_________________________________________________________________\n",
            "batch_normalization_9 (Batch (None, 4, 4, 512)         2048      \n",
            "_________________________________________________________________\n",
            "dropout_6 (Dropout)          (None, 4, 4, 512)         0         \n",
            "_________________________________________________________________\n",
            "conv2d_10 (Conv2D)           (None, 4, 4, 512)         2359808   \n",
            "_________________________________________________________________\n",
            "activation_10 (Activation)   (None, 4, 4, 512)         0         \n",
            "_________________________________________________________________\n",
            "batch_normalization_10 (Batc (None, 4, 4, 512)         2048      \n",
            "_________________________________________________________________\n",
            "max_pooling2d_4 (MaxPooling2 (None, 2, 2, 512)         0         \n",
            "_________________________________________________________________\n",
            "conv2d_11 (Conv2D)           (None, 2, 2, 512)         2359808   \n",
            "_________________________________________________________________\n",
            "activation_11 (Activation)   (None, 2, 2, 512)         0         \n",
            "_________________________________________________________________\n",
            "batch_normalization_11 (Batc (None, 2, 2, 512)         2048      \n",
            "_________________________________________________________________\n",
            "dropout_7 (Dropout)          (None, 2, 2, 512)         0         \n",
            "_________________________________________________________________\n",
            "conv2d_12 (Conv2D)           (None, 2, 2, 512)         2359808   \n",
            "_________________________________________________________________\n",
            "activation_12 (Activation)   (None, 2, 2, 512)         0         \n",
            "_________________________________________________________________\n",
            "batch_normalization_12 (Batc (None, 2, 2, 512)         2048      \n",
            "_________________________________________________________________\n",
            "dropout_8 (Dropout)          (None, 2, 2, 512)         0         \n",
            "_________________________________________________________________\n",
            "conv2d_13 (Conv2D)           (None, 2, 2, 512)         2359808   \n",
            "_________________________________________________________________\n",
            "activation_13 (Activation)   (None, 2, 2, 512)         0         \n",
            "_________________________________________________________________\n",
            "batch_normalization_13 (Batc (None, 2, 2, 512)         2048      \n",
            "_________________________________________________________________\n",
            "max_pooling2d_5 (MaxPooling2 (None, 1, 1, 512)         0         \n",
            "_________________________________________________________________\n",
            "dropout_9 (Dropout)          (None, 1, 1, 512)         0         \n",
            "_________________________________________________________________\n",
            "flatten_1 (Flatten)          (None, 512)               0         \n",
            "_________________________________________________________________\n",
            "dense_1 (Dense)              (None, 512)               262656    \n",
            "_________________________________________________________________\n",
            "activation_14 (Activation)   (None, 512)               0         \n",
            "_________________________________________________________________\n",
            "batch_normalization_14 (Batc (None, 512)               2048      \n",
            "_________________________________________________________________\n",
            "dropout_10 (Dropout)         (None, 512)               0         \n",
            "_________________________________________________________________\n",
            "dense_2 (Dense)              (None, 100)               51300     \n",
            "_________________________________________________________________\n",
            "activation_15 (Activation)   (None, 100)               0         \n",
            "=================================================================\n",
            "Total params: 15,047,588\n",
            "Trainable params: 15,038,116\n",
            "Non-trainable params: 9,472\n",
            "_________________________________________________________________\n"
          ],
          "name": "stdout"
        }
      ]
    },
    {
      "cell_type": "markdown",
      "metadata": {
        "id": "Dr3UQCoYmUvf",
        "colab_type": "text"
      },
      "source": [
        "# Data Augmentation"
      ]
    },
    {
      "cell_type": "markdown",
      "metadata": {
        "id": "QCsczZDFHGou",
        "colab_type": "text"
      },
      "source": [
        "Since the amount of data available for us is quite less to train, we shall try to augment the given data to generate variations (horizontally flipped, zoomed in, rotated) of the same images that'll help our model become more robust."
      ]
    },
    {
      "cell_type": "code",
      "metadata": {
        "id": "HcNMngGNHngn",
        "colab_type": "code",
        "colab": {}
      },
      "source": [
        "from keras.preprocessing.image import ImageDataGenerator"
      ],
      "execution_count": null,
      "outputs": []
    },
    {
      "cell_type": "markdown",
      "metadata": {
        "id": "_SSqnafYIXQG",
        "colab_type": "text"
      },
      "source": [
        "We shall use ImageDataGenerator for this purpose"
      ]
    },
    {
      "cell_type": "code",
      "metadata": {
        "id": "oDCCsCXLl8FC",
        "colab_type": "code",
        "colab": {}
      },
      "source": [
        "generator_augmentation = ImageDataGenerator(\n",
        "                            rotation_range=15,  # randomly rotates images in the range (degrees, 0 to 180)\n",
        "                            width_shift_range=0.1,  # randomly shifts images horizontally (fraction of total width)\n",
        "                            height_shift_range=0.1,  # randomly shifts images vertically (fraction of total height)\n",
        "                            horizontal_flip=True)  # randomly flips images horizontally\n",
        "\n",
        "generator_augmentation.fit(train_images)"
      ],
      "execution_count": null,
      "outputs": []
    },
    {
      "cell_type": "markdown",
      "metadata": {
        "id": "EYXMaaoyItBR",
        "colab_type": "text"
      },
      "source": [
        "#Training the Model\n",
        "We shall start off with defining LearningRateScheduler Callback for the training process, where the learning rate shall decrease by 0.5 after every 20 epochs."
      ]
    },
    {
      "cell_type": "code",
      "metadata": {
        "id": "twoBoRUbJe6_",
        "colab_type": "code",
        "colab": {}
      },
      "source": [
        "learning_rate_drop = 20"
      ],
      "execution_count": null,
      "outputs": []
    },
    {
      "cell_type": "code",
      "metadata": {
        "id": "_p01qcFzI1l3",
        "colab_type": "code",
        "colab": {}
      },
      "source": [
        "def learning_rate_scheduler(epoch):\n",
        "    return learning_rate * (0.5 ** (epoch // learning_rate_drop))\n",
        "\n",
        "reduce_learning_rate = keras.callbacks.LearningRateScheduler(learning_rate_scheduler)"
      ],
      "execution_count": null,
      "outputs": []
    },
    {
      "cell_type": "markdown",
      "metadata": {
        "id": "IkLA69zFJ3gY",
        "colab_type": "text"
      },
      "source": [
        "Stochastic Gradient Descent with Momentum shall be used as the process to converge to the minima. The initial learning rate shall be 0.1 with the decay of learning rate as 1e-6 throughout along with the callback."
      ]
    },
    {
      "cell_type": "code",
      "metadata": {
        "id": "SQScy00sKJ1Z",
        "colab_type": "code",
        "colab": {}
      },
      "source": [
        "learning_rate = 0.1\n",
        "learning_rate_decay = 1e-6"
      ],
      "execution_count": null,
      "outputs": []
    },
    {
      "cell_type": "code",
      "metadata": {
        "id": "fLY_7oINJ2EN",
        "colab_type": "code",
        "colab": {}
      },
      "source": [
        "from keras import optimizers\n",
        "sgd = optimizers.SGD(lr=learning_rate, decay=learning_rate_decay, momentum=0.9, nesterov=True)\n",
        "model.compile(loss='categorical_crossentropy', optimizer=sgd,metrics=['accuracy'])"
      ],
      "execution_count": null,
      "outputs": []
    },
    {
      "cell_type": "markdown",
      "metadata": {
        "id": "MoEd-z9mRDal",
        "colab_type": "text"
      },
      "source": [
        "We, next create a validation set from the training set, to assess the model as the training goes on."
      ]
    },
    {
      "cell_type": "code",
      "metadata": {
        "id": "F2pBHkWXVP1m",
        "colab_type": "code",
        "colab": {}
      },
      "source": [
        "x = 0.8\n",
        "train_images_input = train_images[:int(train_images.shape[0]*x)]\n",
        "train_labels_input = train_labels[:int(train_images.shape[0]*x)]\n",
        "valid_images = train_images[int(train_images.shape[0]*x): train_images.shape[0]]\n",
        "valid_labels = train_labels[int(train_labels.shape[0]*x): train_labels.shape[0]]"
      ],
      "execution_count": null,
      "outputs": []
    },
    {
      "cell_type": "markdown",
      "metadata": {
        "id": "nz-ZQZYhFcpV",
        "colab_type": "text"
      },
      "source": [
        "fit_generator is used to train our model, with batch sze of 128 and the total number of epochs are 250."
      ]
    },
    {
      "cell_type": "code",
      "metadata": {
        "id": "Sh_qn_3HLEas",
        "colab_type": "code",
        "colab": {
          "base_uri": "https://localhost:8080/",
          "height": 1000
        },
        "outputId": "f5f88d0e-ca02-4f83-b69f-45ccef3c6d89"
      },
      "source": [
        "history_training = model.fit_generator((generator_augmentation.flow(train_images_input,train_labels_input, batch_size=128)),\n",
        "                                      steps_per_epoch=train_images.shape[0] // 128,\n",
        "                                      epochs=250,\n",
        "                                      validation_data=(valid_images, valid_labels),\n",
        "                                      callbacks=[reduce_learning_rate],\n",
        "                                      verbose=1)"
      ],
      "execution_count": null,
      "outputs": [
        {
          "output_type": "stream",
          "text": [
            "Epoch 1/250\n",
            "390/390 [==============================] - 103s 264ms/step - loss: 18.8892 - accuracy: 0.0238 - val_loss: 14.6801 - val_accuracy: 0.0089\n",
            "Epoch 2/250\n",
            "390/390 [==============================] - 90s 231ms/step - loss: 10.9318 - accuracy: 0.0434 - val_loss: 9.0100 - val_accuracy: 0.0255\n",
            "Epoch 3/250\n",
            "390/390 [==============================] - 90s 231ms/step - loss: 7.2173 - accuracy: 0.0591 - val_loss: 6.8568 - val_accuracy: 0.0201\n",
            "Epoch 4/250\n",
            "390/390 [==============================] - 90s 231ms/step - loss: 5.5167 - accuracy: 0.0795 - val_loss: 5.3102 - val_accuracy: 0.0608\n",
            "Epoch 5/250\n",
            "390/390 [==============================] - 90s 231ms/step - loss: 4.6899 - accuracy: 0.0990 - val_loss: 4.5521 - val_accuracy: 0.1027\n",
            "Epoch 6/250\n",
            "390/390 [==============================] - 90s 231ms/step - loss: 4.2856 - accuracy: 0.1208 - val_loss: 4.1783 - val_accuracy: 0.1311\n",
            "Epoch 7/250\n",
            "390/390 [==============================] - 90s 231ms/step - loss: 4.0578 - accuracy: 0.1441 - val_loss: 3.9890 - val_accuracy: 0.1577\n",
            "Epoch 8/250\n",
            "390/390 [==============================] - 90s 231ms/step - loss: 3.9130 - accuracy: 0.1717 - val_loss: 3.8805 - val_accuracy: 0.1858\n",
            "Epoch 9/250\n",
            "390/390 [==============================] - 90s 231ms/step - loss: 3.8084 - accuracy: 0.1968 - val_loss: 3.7175 - val_accuracy: 0.2216\n",
            "Epoch 10/250\n",
            "390/390 [==============================] - 90s 231ms/step - loss: 3.7579 - accuracy: 0.2198 - val_loss: 3.6531 - val_accuracy: 0.2491\n",
            "Epoch 11/250\n",
            "390/390 [==============================] - 90s 231ms/step - loss: 3.7267 - accuracy: 0.2401 - val_loss: 3.8401 - val_accuracy: 0.2491\n",
            "Epoch 12/250\n",
            "390/390 [==============================] - 90s 231ms/step - loss: 3.7042 - accuracy: 0.2541 - val_loss: 3.8208 - val_accuracy: 0.2642\n",
            "Epoch 13/250\n",
            "390/390 [==============================] - 90s 231ms/step - loss: 3.6905 - accuracy: 0.2728 - val_loss: 3.5964 - val_accuracy: 0.2908\n",
            "Epoch 14/250\n",
            "390/390 [==============================] - 90s 231ms/step - loss: 3.7101 - accuracy: 0.2822 - val_loss: 3.7734 - val_accuracy: 0.2832\n",
            "Epoch 15/250\n",
            "390/390 [==============================] - 90s 230ms/step - loss: 3.7207 - accuracy: 0.2929 - val_loss: 3.5959 - val_accuracy: 0.3290\n",
            "Epoch 16/250\n",
            "390/390 [==============================] - 90s 231ms/step - loss: 3.7381 - accuracy: 0.3010 - val_loss: 3.8760 - val_accuracy: 0.3071\n",
            "Epoch 17/250\n",
            "390/390 [==============================] - 89s 229ms/step - loss: 3.7452 - accuracy: 0.3085 - val_loss: 3.6401 - val_accuracy: 0.3388\n",
            "Epoch 18/250\n",
            "390/390 [==============================] - 89s 229ms/step - loss: 3.7600 - accuracy: 0.3183 - val_loss: 3.9219 - val_accuracy: 0.2995\n",
            "Epoch 19/250\n",
            "390/390 [==============================] - 90s 230ms/step - loss: 3.7660 - accuracy: 0.3241 - val_loss: 3.9057 - val_accuracy: 0.3217\n",
            "Epoch 20/250\n",
            "390/390 [==============================] - 90s 231ms/step - loss: 3.7824 - accuracy: 0.3320 - val_loss: 3.8901 - val_accuracy: 0.3297\n",
            "Epoch 21/250\n",
            "390/390 [==============================] - 90s 231ms/step - loss: 3.4406 - accuracy: 0.3914 - val_loss: 3.4205 - val_accuracy: 0.3904\n",
            "Epoch 22/250\n",
            "390/390 [==============================] - 90s 230ms/step - loss: 3.2810 - accuracy: 0.4067 - val_loss: 3.3229 - val_accuracy: 0.3952\n",
            "Epoch 23/250\n",
            "390/390 [==============================] - 90s 231ms/step - loss: 3.2445 - accuracy: 0.4082 - val_loss: 3.1658 - val_accuracy: 0.4232\n",
            "Epoch 24/250\n",
            "390/390 [==============================] - 90s 231ms/step - loss: 3.2537 - accuracy: 0.4121 - val_loss: 3.4686 - val_accuracy: 0.3932\n",
            "Epoch 25/250\n",
            "390/390 [==============================] - 90s 231ms/step - loss: 3.2309 - accuracy: 0.4226 - val_loss: 3.2181 - val_accuracy: 0.4369\n",
            "Epoch 26/250\n",
            "390/390 [==============================] - 90s 231ms/step - loss: 3.2599 - accuracy: 0.4209 - val_loss: 3.1356 - val_accuracy: 0.4535\n",
            "Epoch 27/250\n",
            "390/390 [==============================] - 90s 231ms/step - loss: 3.2483 - accuracy: 0.4291 - val_loss: 3.2557 - val_accuracy: 0.4450\n",
            "Epoch 28/250\n",
            "390/390 [==============================] - 90s 231ms/step - loss: 3.2654 - accuracy: 0.4317 - val_loss: 3.2708 - val_accuracy: 0.4432\n",
            "Epoch 29/250\n",
            "390/390 [==============================] - 90s 231ms/step - loss: 3.2692 - accuracy: 0.4377 - val_loss: 3.5291 - val_accuracy: 0.4145\n",
            "Epoch 30/250\n",
            "390/390 [==============================] - 90s 230ms/step - loss: 3.2731 - accuracy: 0.4415 - val_loss: 3.2097 - val_accuracy: 0.4705\n",
            "Epoch 31/250\n",
            "390/390 [==============================] - 90s 230ms/step - loss: 3.2870 - accuracy: 0.4446 - val_loss: 3.4027 - val_accuracy: 0.4332\n",
            "Epoch 32/250\n",
            "390/390 [==============================] - 90s 231ms/step - loss: 3.2961 - accuracy: 0.4457 - val_loss: 3.2239 - val_accuracy: 0.4661\n",
            "Epoch 33/250\n",
            "390/390 [==============================] - 90s 231ms/step - loss: 3.2944 - accuracy: 0.4514 - val_loss: 3.5543 - val_accuracy: 0.4323\n",
            "Epoch 34/250\n",
            "390/390 [==============================] - 90s 231ms/step - loss: 3.2952 - accuracy: 0.4584 - val_loss: 3.3982 - val_accuracy: 0.4533\n",
            "Epoch 35/250\n",
            "390/390 [==============================] - 90s 231ms/step - loss: 3.3031 - accuracy: 0.4585 - val_loss: 3.3066 - val_accuracy: 0.4624\n",
            "Epoch 36/250\n",
            "390/390 [==============================] - 90s 231ms/step - loss: 3.3298 - accuracy: 0.4571 - val_loss: 3.3599 - val_accuracy: 0.4568\n",
            "Epoch 37/250\n",
            "390/390 [==============================] - 90s 231ms/step - loss: 3.3286 - accuracy: 0.4630 - val_loss: 3.2465 - val_accuracy: 0.4902\n",
            "Epoch 38/250\n",
            "390/390 [==============================] - 90s 231ms/step - loss: 3.3199 - accuracy: 0.4663 - val_loss: 3.4966 - val_accuracy: 0.4525\n",
            "Epoch 39/250\n",
            "390/390 [==============================] - 90s 232ms/step - loss: 3.3311 - accuracy: 0.4671 - val_loss: 3.3946 - val_accuracy: 0.4693\n",
            "Epoch 40/250\n",
            "390/390 [==============================] - 90s 231ms/step - loss: 3.3348 - accuracy: 0.4654 - val_loss: 3.2992 - val_accuracy: 0.4808\n",
            "Epoch 41/250\n",
            "390/390 [==============================] - 90s 231ms/step - loss: 3.0525 - accuracy: 0.5271 - val_loss: 3.1249 - val_accuracy: 0.5076\n",
            "Epoch 42/250\n",
            "390/390 [==============================] - 90s 231ms/step - loss: 2.8925 - accuracy: 0.5405 - val_loss: 2.9661 - val_accuracy: 0.5252\n",
            "Epoch 43/250\n",
            "390/390 [==============================] - 90s 230ms/step - loss: 2.8237 - accuracy: 0.5446 - val_loss: 2.9176 - val_accuracy: 0.5307\n",
            "Epoch 44/250\n",
            "390/390 [==============================] - 90s 231ms/step - loss: 2.8101 - accuracy: 0.5446 - val_loss: 3.0149 - val_accuracy: 0.5099\n",
            "Epoch 45/250\n",
            "390/390 [==============================] - 90s 231ms/step - loss: 2.7817 - accuracy: 0.5468 - val_loss: 3.1597 - val_accuracy: 0.4846\n",
            "Epoch 46/250\n",
            "390/390 [==============================] - 90s 231ms/step - loss: 2.7628 - accuracy: 0.5513 - val_loss: 2.9066 - val_accuracy: 0.5316\n",
            "Epoch 47/250\n",
            "390/390 [==============================] - 90s 231ms/step - loss: 2.7700 - accuracy: 0.5463 - val_loss: 3.0456 - val_accuracy: 0.5098\n",
            "Epoch 48/250\n",
            "390/390 [==============================] - 90s 231ms/step - loss: 2.7769 - accuracy: 0.5492 - val_loss: 2.9192 - val_accuracy: 0.5428\n",
            "Epoch 49/250\n",
            "390/390 [==============================] - 90s 231ms/step - loss: 2.7814 - accuracy: 0.5520 - val_loss: 3.0077 - val_accuracy: 0.5179\n",
            "Epoch 50/250\n",
            "390/390 [==============================] - 90s 231ms/step - loss: 2.7688 - accuracy: 0.5559 - val_loss: 2.8942 - val_accuracy: 0.5445\n",
            "Epoch 51/250\n",
            "390/390 [==============================] - 90s 231ms/step - loss: 2.7814 - accuracy: 0.5544 - val_loss: 2.8643 - val_accuracy: 0.5484\n",
            "Epoch 52/250\n",
            "390/390 [==============================] - 90s 231ms/step - loss: 2.7854 - accuracy: 0.5571 - val_loss: 2.8434 - val_accuracy: 0.5556\n",
            "Epoch 53/250\n",
            "390/390 [==============================] - 90s 231ms/step - loss: 2.7789 - accuracy: 0.5597 - val_loss: 2.9653 - val_accuracy: 0.5347\n",
            "Epoch 54/250\n",
            "390/390 [==============================] - 90s 231ms/step - loss: 2.7776 - accuracy: 0.5630 - val_loss: 2.9116 - val_accuracy: 0.5517\n",
            "Epoch 55/250\n",
            "390/390 [==============================] - 90s 231ms/step - loss: 2.7998 - accuracy: 0.5636 - val_loss: 3.0075 - val_accuracy: 0.5287\n",
            "Epoch 56/250\n",
            "390/390 [==============================] - 90s 231ms/step - loss: 2.8127 - accuracy: 0.5618 - val_loss: 3.2204 - val_accuracy: 0.5068\n",
            "Epoch 57/250\n",
            "390/390 [==============================] - 90s 231ms/step - loss: 2.8152 - accuracy: 0.5652 - val_loss: 2.8434 - val_accuracy: 0.5606\n",
            "Epoch 58/250\n",
            "390/390 [==============================] - 90s 231ms/step - loss: 2.7950 - accuracy: 0.5710 - val_loss: 3.0696 - val_accuracy: 0.5277\n",
            "Epoch 59/250\n",
            "390/390 [==============================] - 90s 231ms/step - loss: 2.8058 - accuracy: 0.5686 - val_loss: 3.0364 - val_accuracy: 0.5372\n",
            "Epoch 60/250\n",
            "390/390 [==============================] - 90s 231ms/step - loss: 2.8107 - accuracy: 0.5712 - val_loss: 2.9279 - val_accuracy: 0.5606\n",
            "Epoch 61/250\n",
            "390/390 [==============================] - 90s 231ms/step - loss: 2.6029 - accuracy: 0.6143 - val_loss: 2.7158 - val_accuracy: 0.5943\n",
            "Epoch 62/250\n",
            "390/390 [==============================] - 90s 231ms/step - loss: 2.4631 - accuracy: 0.6377 - val_loss: 2.7286 - val_accuracy: 0.5867\n",
            "Epoch 63/250\n",
            "390/390 [==============================] - 90s 231ms/step - loss: 2.4053 - accuracy: 0.6423 - val_loss: 2.6786 - val_accuracy: 0.5931\n",
            "Epoch 64/250\n",
            "390/390 [==============================] - 90s 231ms/step - loss: 2.3690 - accuracy: 0.6448 - val_loss: 2.5604 - val_accuracy: 0.6031\n",
            "Epoch 65/250\n",
            "390/390 [==============================] - 90s 231ms/step - loss: 2.3373 - accuracy: 0.6465 - val_loss: 2.8180 - val_accuracy: 0.5607\n",
            "Epoch 66/250\n",
            "390/390 [==============================] - 90s 232ms/step - loss: 2.3144 - accuracy: 0.6478 - val_loss: 2.6370 - val_accuracy: 0.5948\n",
            "Epoch 67/250\n",
            "390/390 [==============================] - 90s 231ms/step - loss: 2.3071 - accuracy: 0.6483 - val_loss: 2.5519 - val_accuracy: 0.6029\n",
            "Epoch 68/250\n",
            "390/390 [==============================] - 90s 231ms/step - loss: 2.3016 - accuracy: 0.6478 - val_loss: 2.5363 - val_accuracy: 0.6083\n",
            "Epoch 69/250\n",
            "390/390 [==============================] - 90s 230ms/step - loss: 2.2958 - accuracy: 0.6482 - val_loss: 2.6841 - val_accuracy: 0.5819\n",
            "Epoch 70/250\n",
            "390/390 [==============================] - 90s 232ms/step - loss: 2.2778 - accuracy: 0.6547 - val_loss: 2.6509 - val_accuracy: 0.5886\n",
            "Epoch 71/250\n",
            "390/390 [==============================] - 90s 231ms/step - loss: 2.2866 - accuracy: 0.6493 - val_loss: 2.6326 - val_accuracy: 0.5874\n",
            "Epoch 72/250\n",
            "390/390 [==============================] - 92s 235ms/step - loss: 2.2952 - accuracy: 0.6483 - val_loss: 2.6193 - val_accuracy: 0.5966\n",
            "Epoch 73/250\n",
            "390/390 [==============================] - 90s 232ms/step - loss: 2.2798 - accuracy: 0.6536 - val_loss: 2.6604 - val_accuracy: 0.5904\n",
            "Epoch 74/250\n",
            "390/390 [==============================] - 91s 232ms/step - loss: 2.2764 - accuracy: 0.6546 - val_loss: 2.6241 - val_accuracy: 0.5958\n",
            "Epoch 75/250\n",
            "390/390 [==============================] - 90s 232ms/step - loss: 2.2681 - accuracy: 0.6599 - val_loss: 2.7842 - val_accuracy: 0.5767\n",
            "Epoch 76/250\n",
            "390/390 [==============================] - 91s 232ms/step - loss: 2.2825 - accuracy: 0.6555 - val_loss: 2.6008 - val_accuracy: 0.6036\n",
            "Epoch 77/250\n",
            "390/390 [==============================] - 90s 232ms/step - loss: 2.2954 - accuracy: 0.6549 - val_loss: 2.5446 - val_accuracy: 0.6128\n",
            "Epoch 78/250\n",
            "390/390 [==============================] - 91s 232ms/step - loss: 2.2740 - accuracy: 0.6602 - val_loss: 2.6111 - val_accuracy: 0.6034\n",
            "Epoch 79/250\n",
            "390/390 [==============================] - 90s 232ms/step - loss: 2.2893 - accuracy: 0.6602 - val_loss: 2.7683 - val_accuracy: 0.5762\n",
            "Epoch 80/250\n",
            "390/390 [==============================] - 90s 232ms/step - loss: 2.2820 - accuracy: 0.6621 - val_loss: 2.5805 - val_accuracy: 0.6084\n",
            "Epoch 81/250\n",
            "390/390 [==============================] - 90s 232ms/step - loss: 2.1256 - accuracy: 0.6967 - val_loss: 2.5319 - val_accuracy: 0.6237\n",
            "Epoch 82/250\n",
            "390/390 [==============================] - 90s 232ms/step - loss: 2.0231 - accuracy: 0.7172 - val_loss: 2.4718 - val_accuracy: 0.6320\n",
            "Epoch 83/250\n",
            "390/390 [==============================] - 90s 232ms/step - loss: 1.9757 - accuracy: 0.7232 - val_loss: 2.4486 - val_accuracy: 0.6364\n",
            "Epoch 84/250\n",
            "390/390 [==============================] - 90s 231ms/step - loss: 1.9464 - accuracy: 0.7277 - val_loss: 2.4736 - val_accuracy: 0.6261\n",
            "Epoch 85/250\n",
            "390/390 [==============================] - 90s 232ms/step - loss: 1.9320 - accuracy: 0.7278 - val_loss: 2.4282 - val_accuracy: 0.6343\n",
            "Epoch 86/250\n",
            "390/390 [==============================] - 90s 231ms/step - loss: 1.8928 - accuracy: 0.7335 - val_loss: 2.5160 - val_accuracy: 0.6210\n",
            "Epoch 87/250\n",
            "390/390 [==============================] - 91s 232ms/step - loss: 1.8846 - accuracy: 0.7338 - val_loss: 2.3869 - val_accuracy: 0.6411\n",
            "Epoch 88/250\n",
            "390/390 [==============================] - 91s 233ms/step - loss: 1.8711 - accuracy: 0.7355 - val_loss: 2.5284 - val_accuracy: 0.6198\n",
            "Epoch 89/250\n",
            "390/390 [==============================] - 90s 232ms/step - loss: 1.8652 - accuracy: 0.7346 - val_loss: 2.4352 - val_accuracy: 0.6289\n",
            "Epoch 90/250\n",
            "390/390 [==============================] - 90s 232ms/step - loss: 1.8486 - accuracy: 0.7386 - val_loss: 2.5295 - val_accuracy: 0.6181\n",
            "Epoch 91/250\n",
            "390/390 [==============================] - 90s 232ms/step - loss: 1.8394 - accuracy: 0.7382 - val_loss: 2.4543 - val_accuracy: 0.6268\n",
            "Epoch 92/250\n",
            "390/390 [==============================] - 90s 232ms/step - loss: 1.8319 - accuracy: 0.7421 - val_loss: 2.4207 - val_accuracy: 0.6344\n",
            "Epoch 93/250\n",
            "390/390 [==============================] - 90s 232ms/step - loss: 1.8430 - accuracy: 0.7350 - val_loss: 2.4940 - val_accuracy: 0.6212\n",
            "Epoch 94/250\n",
            "390/390 [==============================] - 90s 232ms/step - loss: 1.8297 - accuracy: 0.7397 - val_loss: 2.3560 - val_accuracy: 0.6429\n",
            "Epoch 95/250\n",
            "390/390 [==============================] - 90s 232ms/step - loss: 1.8258 - accuracy: 0.7404 - val_loss: 2.3763 - val_accuracy: 0.6398\n",
            "Epoch 96/250\n",
            "390/390 [==============================] - 90s 232ms/step - loss: 1.8303 - accuracy: 0.7363 - val_loss: 2.4651 - val_accuracy: 0.6282\n",
            "Epoch 97/250\n",
            "390/390 [==============================] - 90s 232ms/step - loss: 1.8290 - accuracy: 0.7402 - val_loss: 2.4225 - val_accuracy: 0.6379\n",
            "Epoch 98/250\n",
            "390/390 [==============================] - 90s 232ms/step - loss: 1.8224 - accuracy: 0.7402 - val_loss: 2.4645 - val_accuracy: 0.6292\n",
            "Epoch 99/250\n",
            "390/390 [==============================] - 91s 234ms/step - loss: 1.8150 - accuracy: 0.7415 - val_loss: 2.5500 - val_accuracy: 0.6135\n",
            "Epoch 100/250\n",
            "390/390 [==============================] - 91s 232ms/step - loss: 1.8049 - accuracy: 0.7447 - val_loss: 2.4032 - val_accuracy: 0.6409\n",
            "Epoch 101/250\n",
            "390/390 [==============================] - 91s 232ms/step - loss: 1.7022 - accuracy: 0.7682 - val_loss: 2.3699 - val_accuracy: 0.6489\n",
            "Epoch 102/250\n",
            "390/390 [==============================] - 92s 236ms/step - loss: 1.6225 - accuracy: 0.7886 - val_loss: 2.4104 - val_accuracy: 0.6419\n",
            "Epoch 103/250\n",
            "390/390 [==============================] - 90s 232ms/step - loss: 1.5882 - accuracy: 0.7954 - val_loss: 2.3537 - val_accuracy: 0.6499\n",
            "Epoch 104/250\n",
            "390/390 [==============================] - 90s 232ms/step - loss: 1.5587 - accuracy: 0.8004 - val_loss: 2.3030 - val_accuracy: 0.6619\n",
            "Epoch 105/250\n",
            "390/390 [==============================] - 90s 232ms/step - loss: 1.5468 - accuracy: 0.8001 - val_loss: 2.3498 - val_accuracy: 0.6541\n",
            "Epoch 106/250\n",
            "390/390 [==============================] - 90s 232ms/step - loss: 1.5304 - accuracy: 0.8018 - val_loss: 2.3796 - val_accuracy: 0.6479\n",
            "Epoch 107/250\n",
            "390/390 [==============================] - 90s 232ms/step - loss: 1.5150 - accuracy: 0.8038 - val_loss: 2.3238 - val_accuracy: 0.6570\n",
            "Epoch 108/250\n",
            "390/390 [==============================] - 91s 232ms/step - loss: 1.4955 - accuracy: 0.8089 - val_loss: 2.3964 - val_accuracy: 0.6453\n",
            "Epoch 109/250\n",
            "390/390 [==============================] - 91s 232ms/step - loss: 1.4940 - accuracy: 0.8073 - val_loss: 2.4352 - val_accuracy: 0.6419\n",
            "Epoch 110/250\n",
            "390/390 [==============================] - 90s 232ms/step - loss: 1.4855 - accuracy: 0.8076 - val_loss: 2.3435 - val_accuracy: 0.6516\n",
            "Epoch 111/250\n",
            "390/390 [==============================] - 90s 232ms/step - loss: 1.4662 - accuracy: 0.8114 - val_loss: 2.4478 - val_accuracy: 0.6364\n",
            "Epoch 112/250\n",
            "390/390 [==============================] - 90s 232ms/step - loss: 1.4676 - accuracy: 0.8108 - val_loss: 2.3804 - val_accuracy: 0.6494\n",
            "Epoch 113/250\n",
            "390/390 [==============================] - 90s 232ms/step - loss: 1.4625 - accuracy: 0.8124 - val_loss: 2.3195 - val_accuracy: 0.6562\n",
            "Epoch 114/250\n",
            "390/390 [==============================] - 91s 232ms/step - loss: 1.4475 - accuracy: 0.8129 - val_loss: 2.3379 - val_accuracy: 0.6569\n",
            "Epoch 115/250\n",
            "390/390 [==============================] - 90s 232ms/step - loss: 1.4491 - accuracy: 0.8123 - val_loss: 2.3560 - val_accuracy: 0.6481\n",
            "Epoch 116/250\n",
            "390/390 [==============================] - 90s 232ms/step - loss: 1.4354 - accuracy: 0.8159 - val_loss: 2.3180 - val_accuracy: 0.6548\n",
            "Epoch 117/250\n",
            "390/390 [==============================] - 90s 232ms/step - loss: 1.4305 - accuracy: 0.8153 - val_loss: 2.4113 - val_accuracy: 0.6375\n",
            "Epoch 118/250\n",
            "390/390 [==============================] - 90s 232ms/step - loss: 1.4269 - accuracy: 0.8174 - val_loss: 2.3889 - val_accuracy: 0.6489\n",
            "Epoch 119/250\n",
            "390/390 [==============================] - 90s 232ms/step - loss: 1.4072 - accuracy: 0.8207 - val_loss: 2.3669 - val_accuracy: 0.6487\n",
            "Epoch 120/250\n",
            "390/390 [==============================] - 90s 232ms/step - loss: 1.4195 - accuracy: 0.8158 - val_loss: 2.3474 - val_accuracy: 0.6525\n",
            "Epoch 121/250\n",
            "390/390 [==============================] - 90s 231ms/step - loss: 1.3431 - accuracy: 0.8354 - val_loss: 2.2812 - val_accuracy: 0.6624\n",
            "Epoch 122/250\n",
            "390/390 [==============================] - 91s 232ms/step - loss: 1.2896 - accuracy: 0.8498 - val_loss: 2.4016 - val_accuracy: 0.6495\n",
            "Epoch 123/250\n",
            "390/390 [==============================] - 91s 232ms/step - loss: 1.2668 - accuracy: 0.8556 - val_loss: 2.3292 - val_accuracy: 0.6589\n",
            "Epoch 124/250\n",
            "390/390 [==============================] - 91s 232ms/step - loss: 1.2514 - accuracy: 0.8574 - val_loss: 2.3057 - val_accuracy: 0.6636\n",
            "Epoch 125/250\n",
            "390/390 [==============================] - 90s 232ms/step - loss: 1.2319 - accuracy: 0.8619 - val_loss: 2.3754 - val_accuracy: 0.6560\n",
            "Epoch 126/250\n",
            "390/390 [==============================] - 90s 232ms/step - loss: 1.2353 - accuracy: 0.8586 - val_loss: 2.3180 - val_accuracy: 0.6641\n",
            "Epoch 127/250\n",
            "390/390 [==============================] - 91s 232ms/step - loss: 1.2124 - accuracy: 0.8637 - val_loss: 2.2957 - val_accuracy: 0.6623\n",
            "Epoch 128/250\n",
            "390/390 [==============================] - 90s 232ms/step - loss: 1.1967 - accuracy: 0.8665 - val_loss: 2.3511 - val_accuracy: 0.6583\n",
            "Epoch 129/250\n",
            "390/390 [==============================] - 90s 231ms/step - loss: 1.1894 - accuracy: 0.8658 - val_loss: 2.3797 - val_accuracy: 0.6573\n",
            "Epoch 130/250\n",
            "390/390 [==============================] - 90s 232ms/step - loss: 1.1898 - accuracy: 0.8665 - val_loss: 2.3214 - val_accuracy: 0.6630\n",
            "Epoch 131/250\n",
            "390/390 [==============================] - 90s 232ms/step - loss: 1.1815 - accuracy: 0.8673 - val_loss: 2.3560 - val_accuracy: 0.6609\n",
            "Epoch 132/250\n",
            "390/390 [==============================] - 91s 232ms/step - loss: 1.1643 - accuracy: 0.8709 - val_loss: 2.3733 - val_accuracy: 0.6586\n",
            "Epoch 133/250\n",
            "390/390 [==============================] - 91s 232ms/step - loss: 1.1622 - accuracy: 0.8721 - val_loss: 2.3664 - val_accuracy: 0.6578\n",
            "Epoch 134/250\n",
            "390/390 [==============================] - 90s 232ms/step - loss: 1.1493 - accuracy: 0.8727 - val_loss: 2.3558 - val_accuracy: 0.6608\n",
            "Epoch 135/250\n",
            "390/390 [==============================] - 91s 232ms/step - loss: 1.1568 - accuracy: 0.8708 - val_loss: 2.3674 - val_accuracy: 0.6587\n",
            "Epoch 136/250\n",
            "390/390 [==============================] - 91s 232ms/step - loss: 1.1410 - accuracy: 0.8749 - val_loss: 2.3800 - val_accuracy: 0.6586\n",
            "Epoch 137/250\n",
            "390/390 [==============================] - 90s 232ms/step - loss: 1.1450 - accuracy: 0.8722 - val_loss: 2.4612 - val_accuracy: 0.6513\n",
            "Epoch 138/250\n",
            "390/390 [==============================] - 91s 232ms/step - loss: 1.1383 - accuracy: 0.8731 - val_loss: 2.3834 - val_accuracy: 0.6583\n",
            "Epoch 139/250\n",
            "390/390 [==============================] - 91s 232ms/step - loss: 1.1244 - accuracy: 0.8758 - val_loss: 2.4315 - val_accuracy: 0.6538\n",
            "Epoch 140/250\n",
            "390/390 [==============================] - 91s 232ms/step - loss: 1.1228 - accuracy: 0.8755 - val_loss: 2.4112 - val_accuracy: 0.6567\n",
            "Epoch 141/250\n",
            "390/390 [==============================] - 91s 232ms/step - loss: 1.0804 - accuracy: 0.8868 - val_loss: 2.3387 - val_accuracy: 0.6706\n",
            "Epoch 142/250\n",
            "390/390 [==============================] - 90s 232ms/step - loss: 1.0612 - accuracy: 0.8923 - val_loss: 2.3391 - val_accuracy: 0.6691\n",
            "Epoch 143/250\n",
            "390/390 [==============================] - 90s 232ms/step - loss: 1.0372 - accuracy: 0.8963 - val_loss: 2.3548 - val_accuracy: 0.6652\n",
            "Epoch 144/250\n",
            "390/390 [==============================] - 91s 232ms/step - loss: 1.0284 - accuracy: 0.8993 - val_loss: 2.3282 - val_accuracy: 0.6721\n",
            "Epoch 145/250\n",
            "390/390 [==============================] - 90s 232ms/step - loss: 1.0237 - accuracy: 0.9004 - val_loss: 2.3085 - val_accuracy: 0.6749\n",
            "Epoch 146/250\n",
            "390/390 [==============================] - 91s 232ms/step - loss: 1.0196 - accuracy: 0.9016 - val_loss: 2.3154 - val_accuracy: 0.6711\n",
            "Epoch 147/250\n",
            "390/390 [==============================] - 90s 232ms/step - loss: 1.0077 - accuracy: 0.9035 - val_loss: 2.3445 - val_accuracy: 0.6682\n",
            "Epoch 148/250\n",
            "390/390 [==============================] - 90s 232ms/step - loss: 1.0011 - accuracy: 0.9032 - val_loss: 2.3470 - val_accuracy: 0.6695\n",
            "Epoch 149/250\n",
            "390/390 [==============================] - 91s 232ms/step - loss: 0.9932 - accuracy: 0.9073 - val_loss: 2.3482 - val_accuracy: 0.6701\n",
            "Epoch 150/250\n",
            "309/390 [======================>.......] - ETA: 17s - loss: 0.9821 - accuracy: 0.9087Buffered data was truncated after reaching the output size limit."
          ],
          "name": "stdout"
        }
      ]
    },
    {
      "cell_type": "markdown",
      "metadata": {
        "id": "9fKOUrMJGFs6",
        "colab_type": "text"
      },
      "source": [
        "We observe that our model started overfitting around the epoch 60, but we continued training to achieve the best possible validation loss ~ 68%"
      ]
    },
    {
      "cell_type": "markdown",
      "metadata": {
        "id": "_Ttjgz94Freb",
        "colab_type": "text"
      },
      "source": [
        "Finally evaluating our model on the Testing Dataset"
      ]
    },
    {
      "cell_type": "code",
      "metadata": {
        "id": "BZJpboUzdnZh",
        "colab_type": "code",
        "colab": {
          "base_uri": "https://localhost:8080/",
          "height": 52
        },
        "outputId": "9f10334f-06d1-45d9-eb78-d33eaaebb463"
      },
      "source": [
        "testing_loss, testing_accuracy = model.evaluate(test_images, test_labels)\n",
        "\n",
        "print('The testing accuracy on CIFAR - 100 Dataset is: ', testing_accuracy)"
      ],
      "execution_count": null,
      "outputs": [
        {
          "output_type": "stream",
          "text": [
            "10000/10000 [==============================] - 9s 935us/step\n",
            "The testing accuracy on CIFAR - 100 Dataset is:  0.6735000014305115\n"
          ],
          "name": "stdout"
        }
      ]
    },
    {
      "cell_type": "markdown",
      "metadata": {
        "id": "bFIuC1mcazRw",
        "colab_type": "text"
      },
      "source": [
        "Finally, we observe that the testing accuracy is 67.35%, which seems pretty decent as the optimum accuracy for VGG 16 is around 71%."
      ]
    }
  ]
}
